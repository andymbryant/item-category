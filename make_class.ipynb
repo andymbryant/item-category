{
 "metadata": {
  "language_info": {
   "codemirror_mode": {
    "name": "ipython",
    "version": 3
   },
   "file_extension": ".py",
   "mimetype": "text/x-python",
   "name": "python",
   "nbconvert_exporter": "python",
   "pygments_lexer": "ipython3",
   "version": "3.9.2"
  },
  "orig_nbformat": 4,
  "kernelspec": {
   "name": "python3",
   "display_name": "Python 3.9.2 64-bit"
  },
  "interpreter": {
   "hash": "aee8b7b246df8f9039afb4144a1f6fd8d2ca17a180786b69acc140d282b71a49"
  }
 },
 "nbformat": 4,
 "nbformat_minor": 2,
 "cells": [
  {
   "cell_type": "code",
   "execution_count": null,
   "metadata": {},
   "outputs": [],
   "source": [
    "import sys\n",
    "!{sys.executable} -m pip install spacy\n",
    "!{sys.executable} -m pip install tqdm"
   ]
  },
  {
   "cell_type": "code",
   "execution_count": 46,
   "metadata": {},
   "outputs": [],
   "source": [
    "import spacy\n",
    "import os\n",
    "import csv\n",
    "from tqdm import tqdm\n",
    "import time"
   ]
  },
  {
   "cell_type": "code",
   "execution_count": null,
   "metadata": {},
   "outputs": [],
   "source": [
    "import sys\n",
    "!{sys.executable} -m spacy download en_core_web_lg"
   ]
  },
  {
   "cell_type": "code",
   "execution_count": null,
   "metadata": {},
   "outputs": [],
   "source": [
    "nlp = spacy.load('en_core_web_lg')"
   ]
  },
  {
   "cell_type": "code",
   "execution_count": 48,
   "metadata": {},
   "outputs": [],
   "source": [
    "tokenizer = nlp.tokenizer\n",
    "remove_words = ['nash', 'virtual']\n",
    "def convert_text_to_doc(raw_text):\n",
    "    text = raw_text.lower()\n",
    "    for word in remove_words:\n",
    "        text = text.replace(word, '')\n",
    "    # tokenize text and remove stop words, out-of-vocab words, punctuation, and non alpha\n",
    "    return nlp(\" \".join([str(t) for t in tokenizer(text) if not t.is_stop and not t.is_oov and not t.is_punct and t.is_alpha]))\n",
    "\n",
    "def get_family(source_doc):\n",
    "    best_score = 0\n",
    "    best_code = None\n",
    "    best_family_name = None\n",
    "    file = open('./family_codes.csv', \"r\")\n",
    "    reader = csv.reader(file, delimiter=',')\n",
    "    next(reader)\n",
    "    # TODO: if score is not over a certain treshhold\n",
    "    for family_code, family_name, include in reader:\n",
    "        if bool(include):\n",
    "            family_doc = convert_text_to_doc(family_name)\n",
    "            score = family_doc.similarity(source_doc)\n",
    "            if score > best_score:\n",
    "                best_code = family_code\n",
    "                best_family_name = family_name\n",
    "                best_score = score\n",
    "    return best_code, best_family_name, best_score"
   ]
  },
  {
   "cell_type": "code",
   "execution_count": 52,
   "metadata": {
    "tags": []
   },
   "outputs": [
    {
     "output_type": "stream",
     "name": "stderr",
     "text": [
      "0it [00:00, ?it/s]/var/folders/s7/mgb89pzd4g530qcvhpdt5pkr0000gn/T/ipykernel_37208/1003730191.py:21: UserWarning: [W008] Evaluating Doc.similarity based on empty vectors.\n",
      "  score = family_doc.similarity(source_doc)\n",
      "1000it [15:52,  1.05it/s]\n"
     ]
    }
   ],
   "source": [
    "total_counter = 0\n",
    "correct_counter_first = 0\n",
    "correct_counter_second = 0\n",
    "results = []\n",
    "# cutoff = 10\n",
    "cutoff = float('inf')\n",
    "with open('./items_labeled_1.csv') as csv_file:\n",
    "    reader = csv.reader(csv_file, delimiter=',')\n",
    "    next(reader)\n",
    "    for row in tqdm(reader):\n",
    "        uuid, labeler, name, display_name, category, family_name_1, family_name_2 = row\n",
    "        if bool(labeler) and bool(family_name_1):\n",
    "            total_counter += 1\n",
    "            text = f'{display_name if display_name else name} {category}'\n",
    "            source_doc = convert_text_to_doc(text)\n",
    "            best_code, best_family_name, best_score = get_family(source_doc)\n",
    "            if best_family_name == family_name_1:\n",
    "                correct_counter_first += 1\n",
    "            elif best_family_name == family_name_2:\n",
    "                correct_counter_second += 1\n",
    "            results.append([text, source_doc, family_name_1, best_family_name, best_score])\n",
    "            # print(f\"NAME + CATEGORY: {source_doc}, EXPECTED: {family_name_1}, ACTUAL: {best_family_name}, SCORE: {best_score}\")\n",
    "            if total_counter == cutoff:\n",
    "                break\n",
    "\n",
    "first_correct = (correct_counter_first/total_counter)*100\n",
    "second_correct = (correct_counter_second/total_counter)*100\n",
    "\n",
    "fields = ['text', 'source_doc', 'expected', 'actual', 'similarity_score'] \n",
    "with open(f\"./items_results_{len(results)}_{time.strftime('%H%M%S')}.csv\", 'w') as new_file:\n",
    "    csvwriter = csv.writer(new_file) \n",
    "    csvwriter.writerow(fields)\n",
    "    csvwriter.writerows(results)\n",
    "    csvwriter.writerow([f'Percentage correct on first: {(correct_counter_first/total_counter)*100}%'])\n",
    "    csvwriter.writerow([f'Percentage correct on second: {(correct_counter_second/total_counter)*100}%'])\n",
    "    csvwriter.writerow([f'Percentage incorrect: {((total_counter - correct_counter_first - correct_counter_second)/total_counter)*100}%'])\n"
   ]
  },
  {
   "cell_type": "code",
   "execution_count": null,
   "metadata": {},
   "outputs": [],
   "source": []
  }
 ]
}